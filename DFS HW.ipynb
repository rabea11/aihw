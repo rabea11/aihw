{
 "cells": [
  {
   "cell_type": "code",
   "execution_count": 40,
   "metadata": {},
   "outputs": [
    {
     "name": "stdout",
     "output_type": "stream",
     "text": [
      "The Depth-First Search Tracking\n",
      "3 4 5 6 7 2 \n",
      " the number is found \n",
      " continue searching...\n",
      "8 1 "
     ]
    }
   ],
   "source": [
    "graph = {\n",
    "  '3' : ['4','8','1'],\n",
    "  '4' : ['5'],\n",
    "  '8' : ['5'],\n",
    "  '1' : ['6'],\n",
    "  '5' : ['6','2'],\n",
    "  '2' : ['7'],\n",
    "  '6' : ['7'],\n",
    "  '7' : ['3']\n",
    "}\n",
    "no= int(input(\"Please enter your number ,note that the rang betwen 1-8\" ))\n",
    "visited = set()\n",
    "loop=0\n",
    "def dfs(visited, graph, node):   \n",
    "\n",
    "    if node not in visited :   \n",
    "        print (node, end = \" \")    \n",
    "        visited.add(node)\n",
    "        \n",
    "        if int(node) == no:\n",
    "                print ('\\n the number is found \\n continue searching...')\n",
    "                 \n",
    "                \n",
    "        for neighbour in graph[node]:\n",
    "            if loop==1:\n",
    "                break\n",
    "\n",
    "            dfs(visited, graph, neighbour)\n",
    "            \n",
    "print(\"The Depth-First Search Tracking\")\n",
    "dfs(visited, graph, '3')"
   ]
  }
 ],
 "metadata": {
  "kernelspec": {
   "display_name": "base",
   "language": "python",
   "name": "python3"
  },
  "language_info": {
   "codemirror_mode": {
    "name": "ipython",
    "version": 3
   },
   "file_extension": ".py",
   "mimetype": "text/x-python",
   "name": "python",
   "nbconvert_exporter": "python",
   "pygments_lexer": "ipython3",
   "version": "3.11.4"
  }
 },
 "nbformat": 4,
 "nbformat_minor": 2
}
